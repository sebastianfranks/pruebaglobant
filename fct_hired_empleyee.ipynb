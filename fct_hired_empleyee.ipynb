{
 "cells": [
  {
   "cell_type": "code",
   "execution_count": 7,
   "metadata": {},
   "outputs": [],
   "source": [
    "from sqlalchemy import create_engine\n",
    "import pandas as pd\n",
    "from datetime import datetime"
   ]
  },
  {
   "cell_type": "code",
   "execution_count": 2,
   "metadata": {},
   "outputs": [],
   "source": [
    "# Define las credenciales de la base de datos\n",
    "username = 'root'\n",
    "password = 'MySQL'\n",
    "database_name = 'prueba_globant'\n",
    "host = 'localhost'  # o la IP si es remoto\n",
    "port = '3306'  # Puerto por defecto de MySQL"
   ]
  },
  {
   "cell_type": "code",
   "execution_count": 3,
   "metadata": {},
   "outputs": [],
   "source": [
    "# Crea la URL de conexión para SQLAlchemy\n",
    "database_url = f'mysql+pymysql://{username}:{password}@{host}:{port}/{database_name}'\n",
    "# Crea el motor de conexión a la base de datos\n",
    "engine = create_engine(database_url)"
   ]
  },
  {
   "cell_type": "code",
   "execution_count": 4,
   "metadata": {},
   "outputs": [],
   "source": [
    "hired_employees_df = pd.read_excel('C:/Users/franc/Downloads/hired_employees.xlsx', header=None, names=['id', 'name', 'datetime', 'department_id', 'job_id'])"
   ]
  },
  {
   "cell_type": "code",
   "execution_count": 17,
   "metadata": {},
   "outputs": [],
   "source": [
    "def convert_to_mysql_format(iso_datetime_str):\n",
    "    if isinstance(iso_datetime_str, str):\n",
    "        try:\n",
    "            datetime_obj = datetime.fromisoformat(iso_datetime_str.rstrip('Z'))\n",
    "            return datetime_obj.strftime('%Y-%m-%d %H:%M:%S')\n",
    "        except ValueError:\n",
    "            return '1000-01-01 00:00:00'\n",
    "    else:\n",
    "        return '1000-01-01 00:00:00'"
   ]
  },
  {
   "cell_type": "code",
   "execution_count": 26,
   "metadata": {},
   "outputs": [],
   "source": [
    "import pandas as pd\n",
    "\n",
    "def convert_float_columns_to_int(df, columns_to_convert):\n",
    "    \"\"\"\n",
    "    Convierte las columnas especificadas de un DataFrame de pandas de float a int.\n",
    "\n",
    "    Parámetros:\n",
    "    - df: DataFrame de pandas.\n",
    "    - columns_to_convert: Lista de nombres de columnas para convertir a enteros.\n",
    "\n",
    "    Retorna:\n",
    "    - DataFrame con las columnas especificadas convertidas a tipo int.\n",
    "    \"\"\"\n",
    "    for column in columns_to_convert:\n",
    "        # Comprueba si la columna está en el DataFrame y si es de tipo float\n",
    "        if column in df.columns and pd.api.types.is_float_dtype(df[column]):\n",
    "            # Convierte la columna a int\n",
    "            # Usamos `astype('Int64')` para manejar correctamente los NaNs, \n",
    "            # convirtiéndolos a valores enteros NA de pandas.\n",
    "            df[column] = df[column].astype('Int64')\n",
    "    return df\n"
   ]
  },
  {
   "cell_type": "code",
   "execution_count": 27,
   "metadata": {},
   "outputs": [
    {
     "data": {
      "text/html": [
       "<div>\n",
       "<style scoped>\n",
       "    .dataframe tbody tr th:only-of-type {\n",
       "        vertical-align: middle;\n",
       "    }\n",
       "\n",
       "    .dataframe tbody tr th {\n",
       "        vertical-align: top;\n",
       "    }\n",
       "\n",
       "    .dataframe thead th {\n",
       "        text-align: right;\n",
       "    }\n",
       "</style>\n",
       "<table border=\"1\" class=\"dataframe\">\n",
       "  <thead>\n",
       "    <tr style=\"text-align: right;\">\n",
       "      <th></th>\n",
       "      <th>id</th>\n",
       "      <th>name</th>\n",
       "      <th>datetime</th>\n",
       "      <th>department_id</th>\n",
       "      <th>job_id</th>\n",
       "    </tr>\n",
       "  </thead>\n",
       "  <tbody>\n",
       "    <tr>\n",
       "      <th>0</th>\n",
       "      <td>1</td>\n",
       "      <td>Harold Vogt</td>\n",
       "      <td>2021-11-07 02:48:42</td>\n",
       "      <td>2</td>\n",
       "      <td>96</td>\n",
       "    </tr>\n",
       "    <tr>\n",
       "      <th>1</th>\n",
       "      <td>2</td>\n",
       "      <td>Ty Hofer</td>\n",
       "      <td>2021-05-30 05:43:46</td>\n",
       "      <td>8</td>\n",
       "      <td>&lt;NA&gt;</td>\n",
       "    </tr>\n",
       "    <tr>\n",
       "      <th>2</th>\n",
       "      <td>3</td>\n",
       "      <td>Lyman Hadye</td>\n",
       "      <td>2021-09-01 23:27:38</td>\n",
       "      <td>5</td>\n",
       "      <td>52</td>\n",
       "    </tr>\n",
       "    <tr>\n",
       "      <th>3</th>\n",
       "      <td>4</td>\n",
       "      <td>Lotti Crowthe</td>\n",
       "      <td>2021-10-01 13:04:21</td>\n",
       "      <td>12</td>\n",
       "      <td>71</td>\n",
       "    </tr>\n",
       "    <tr>\n",
       "      <th>4</th>\n",
       "      <td>5</td>\n",
       "      <td>Gretna Lording</td>\n",
       "      <td>2021-10-10 22:22:17</td>\n",
       "      <td>6</td>\n",
       "      <td>80</td>\n",
       "    </tr>\n",
       "    <tr>\n",
       "      <th>...</th>\n",
       "      <td>...</td>\n",
       "      <td>...</td>\n",
       "      <td>...</td>\n",
       "      <td>...</td>\n",
       "      <td>...</td>\n",
       "    </tr>\n",
       "    <tr>\n",
       "      <th>1994</th>\n",
       "      <td>1995</td>\n",
       "      <td>Goran Yong</td>\n",
       "      <td>2021-08-22 21:57:53</td>\n",
       "      <td>2</td>\n",
       "      <td>83</td>\n",
       "    </tr>\n",
       "    <tr>\n",
       "      <th>1995</th>\n",
       "      <td>1996</td>\n",
       "      <td>Cirstoforo Youings</td>\n",
       "      <td>2021-04-01 17:48:42</td>\n",
       "      <td>3</td>\n",
       "      <td>23</td>\n",
       "    </tr>\n",
       "    <tr>\n",
       "      <th>1996</th>\n",
       "      <td>1997</td>\n",
       "      <td>Wilek Yurkevich</td>\n",
       "      <td>2021-05-04 12:19:50</td>\n",
       "      <td>2</td>\n",
       "      <td>132</td>\n",
       "    </tr>\n",
       "    <tr>\n",
       "      <th>1997</th>\n",
       "      <td>1998</td>\n",
       "      <td>Jerry Yven</td>\n",
       "      <td>2021-10-03 14:12:50</td>\n",
       "      <td>7</td>\n",
       "      <td>100</td>\n",
       "    </tr>\n",
       "    <tr>\n",
       "      <th>1998</th>\n",
       "      <td>1999</td>\n",
       "      <td>Jerri Zebedee</td>\n",
       "      <td>2022-01-18 10:47:37</td>\n",
       "      <td>8</td>\n",
       "      <td>80</td>\n",
       "    </tr>\n",
       "  </tbody>\n",
       "</table>\n",
       "<p>1999 rows × 5 columns</p>\n",
       "</div>"
      ],
      "text/plain": [
       "        id                name             datetime  department_id  job_id\n",
       "0        1         Harold Vogt  2021-11-07 02:48:42              2      96\n",
       "1        2            Ty Hofer  2021-05-30 05:43:46              8    <NA>\n",
       "2        3         Lyman Hadye  2021-09-01 23:27:38              5      52\n",
       "3        4       Lotti Crowthe  2021-10-01 13:04:21             12      71\n",
       "4        5      Gretna Lording  2021-10-10 22:22:17              6      80\n",
       "...    ...                 ...                  ...            ...     ...\n",
       "1994  1995          Goran Yong  2021-08-22 21:57:53              2      83\n",
       "1995  1996  Cirstoforo Youings  2021-04-01 17:48:42              3      23\n",
       "1996  1997     Wilek Yurkevich  2021-05-04 12:19:50              2     132\n",
       "1997  1998          Jerry Yven  2021-10-03 14:12:50              7     100\n",
       "1998  1999       Jerri Zebedee  2022-01-18 10:47:37              8      80\n",
       "\n",
       "[1999 rows x 5 columns]"
      ]
     },
     "execution_count": 27,
     "metadata": {},
     "output_type": "execute_result"
    }
   ],
   "source": [
    "columns_to_convert = ['id', 'department_id', 'job_id']\n",
    "convert_float_columns_to_int(hired_employees_df, columns_to_convert)"
   ]
  },
  {
   "cell_type": "code",
   "execution_count": 25,
   "metadata": {},
   "outputs": [],
   "source": [
    "hired_employees_df['datetime'] = hired_employees_df['datetime'].apply(convert_to_mysql_format)"
   ]
  },
  {
   "cell_type": "code",
   "execution_count": 21,
   "metadata": {},
   "outputs": [],
   "source": [
    "hired_employees_df['name'].fillna('Unknown', inplace=True)\n"
   ]
  },
  {
   "cell_type": "code",
   "execution_count": 22,
   "metadata": {},
   "outputs": [
    {
     "data": {
      "text/html": [
       "<div>\n",
       "<style scoped>\n",
       "    .dataframe tbody tr th:only-of-type {\n",
       "        vertical-align: middle;\n",
       "    }\n",
       "\n",
       "    .dataframe tbody tr th {\n",
       "        vertical-align: top;\n",
       "    }\n",
       "\n",
       "    .dataframe thead th {\n",
       "        text-align: right;\n",
       "    }\n",
       "</style>\n",
       "<table border=\"1\" class=\"dataframe\">\n",
       "  <thead>\n",
       "    <tr style=\"text-align: right;\">\n",
       "      <th></th>\n",
       "      <th>id</th>\n",
       "      <th>name</th>\n",
       "      <th>datetime</th>\n",
       "      <th>department_id</th>\n",
       "      <th>job_id</th>\n",
       "    </tr>\n",
       "  </thead>\n",
       "  <tbody>\n",
       "    <tr>\n",
       "      <th>0</th>\n",
       "      <td>1.0</td>\n",
       "      <td>Harold Vogt</td>\n",
       "      <td>2021-11-07 02:48:42</td>\n",
       "      <td>2.0</td>\n",
       "      <td>96.0</td>\n",
       "    </tr>\n",
       "    <tr>\n",
       "      <th>1</th>\n",
       "      <td>2.0</td>\n",
       "      <td>Ty Hofer</td>\n",
       "      <td>2021-05-30 05:43:46</td>\n",
       "      <td>8.0</td>\n",
       "      <td>NaN</td>\n",
       "    </tr>\n",
       "    <tr>\n",
       "      <th>2</th>\n",
       "      <td>3.0</td>\n",
       "      <td>Lyman Hadye</td>\n",
       "      <td>2021-09-01 23:27:38</td>\n",
       "      <td>5.0</td>\n",
       "      <td>52.0</td>\n",
       "    </tr>\n",
       "    <tr>\n",
       "      <th>3</th>\n",
       "      <td>4.0</td>\n",
       "      <td>Lotti Crowthe</td>\n",
       "      <td>2021-10-01 13:04:21</td>\n",
       "      <td>12.0</td>\n",
       "      <td>71.0</td>\n",
       "    </tr>\n",
       "    <tr>\n",
       "      <th>4</th>\n",
       "      <td>5.0</td>\n",
       "      <td>Gretna Lording</td>\n",
       "      <td>2021-10-10 22:22:17</td>\n",
       "      <td>6.0</td>\n",
       "      <td>80.0</td>\n",
       "    </tr>\n",
       "  </tbody>\n",
       "</table>\n",
       "</div>"
      ],
      "text/plain": [
       "    id            name             datetime  department_id  job_id\n",
       "0  1.0     Harold Vogt  2021-11-07 02:48:42            2.0    96.0\n",
       "1  2.0        Ty Hofer  2021-05-30 05:43:46            8.0     NaN\n",
       "2  3.0     Lyman Hadye  2021-09-01 23:27:38            5.0    52.0\n",
       "3  4.0   Lotti Crowthe  2021-10-01 13:04:21           12.0    71.0\n",
       "4  5.0  Gretna Lording  2021-10-10 22:22:17            6.0    80.0"
      ]
     },
     "execution_count": 22,
     "metadata": {},
     "output_type": "execute_result"
    }
   ],
   "source": [
    "hired_employees_df.head()"
   ]
  },
  {
   "cell_type": "code",
   "execution_count": 33,
   "metadata": {},
   "outputs": [
    {
     "data": {
      "text/plain": [
       "1999"
      ]
     },
     "execution_count": 33,
     "metadata": {},
     "output_type": "execute_result"
    }
   ],
   "source": [
    "hired_employees_df.to_sql('hired_employees', con=engine, if_exists='append', index=False)"
   ]
  }
 ],
 "metadata": {
  "kernelspec": {
   "display_name": "Python 3",
   "language": "python",
   "name": "python3"
  },
  "language_info": {
   "codemirror_mode": {
    "name": "ipython",
    "version": 3
   },
   "file_extension": ".py",
   "mimetype": "text/x-python",
   "name": "python",
   "nbconvert_exporter": "python",
   "pygments_lexer": "ipython3",
   "version": "3.9.13"
  }
 },
 "nbformat": 4,
 "nbformat_minor": 2
}
